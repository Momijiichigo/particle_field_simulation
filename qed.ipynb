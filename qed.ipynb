{
 "cells": [
  {
   "cell_type": "code",
   "execution_count": 1,
   "id": "1e876a9d",
   "metadata": {},
   "outputs": [],
   "source": [
    "using LinearAlgebra\n",
    "using CUDA           # GPU computing\n",
    "using GLMakie        # high‑performance 3‑D plotting\n",
    "using ColorSchemes\n",
    "using GeometryBasics\n",
    "import ProgressMeter\n",
    "using Markdown\n",
    "using StaticArrays    # stack‑allocated, GPU‑safe\n"
   ]
  },
  {
   "cell_type": "code",
   "execution_count": null,
   "id": "107f040a",
   "metadata": {},
   "outputs": [
    {
     "data": {
      "text/plain": [
       "10"
      ]
     },
     "metadata": {},
     "output_type": "display_data"
    }
   ],
   "source": [
    "const Nx, Ny, Nz = 64, 64, 64          # grid size\n",
    "threads = (4,4,4)                                # 512 threads per block\n",
    "blocks  = (cld(Nx,threads[1]),\n",
    "           cld(Ny,threads[2]),\n",
    "           cld(Nz,threads[3]))                     # as many blocks as needed\n",
    "############ Physical & numerical constants #############\n",
    "const dx  = 0.1f0                      # spacing\n",
    "const dt  = 0.001f0                      # time step\n",
    "const nsteps      = 2000                # total steps\n",
    "const frame_every = 10                  # dump every n steps"
   ]
  },
  {
   "cell_type": "code",
   "execution_count": 3,
   "id": "689814f6",
   "metadata": {},
   "outputs": [
    {
     "data": {
      "text/plain": [
       "4×4 SMatrix{4, 4, ComplexF32, 16} with indices SOneTo(4)×SOneTo(4):\n",
       " 0.0+0.0im  0.0+0.0im  1.0+0.0im  0.0+0.0im\n",
       " 0.0+0.0im  0.0+0.0im  0.0+0.0im  1.0+0.0im\n",
       " 1.0+0.0im  0.0+0.0im  0.0+0.0im  0.0+0.0im\n",
       " 0.0+0.0im  1.0+0.0im  0.0+0.0im  0.0+0.0im"
      ]
     },
     "metadata": {},
     "output_type": "display_data"
    }
   ],
   "source": [
    "# Pauli matrices\n",
    "\n",
    "σx = [0 1;\n",
    "      1 0]\n",
    "\n",
    "σy = [0 -im;\n",
    "       im 0]\n",
    "\n",
    "σz = [1 0;\n",
    "      0 -1]\n",
    "\n",
    "σ0 = [1 0;\n",
    "      0 1]\n",
    "\n",
    "# Gamma matrices\n",
    "# (first make empty 4x4 matrices and set upper-right and lower-left 2x2 blocks to σx, σy, σz)\n",
    "γ₀ = zeros(ComplexF32, 4, 4)\n",
    "γ₀[3:4, 1:2] .= σ0\n",
    "γ₀[1:2, 3:4] .= σ0\n",
    "# γ₀ = zeros(ComplexF32, 4, 4)\n",
    "# γ₀[1:2, 1:2] .= σ0\n",
    "# γ₀[3:4, 3:4] .= -σ0\n",
    "const γ0 = SMatrix{4,4}(γ₀)\n",
    "γ₁ = zeros(ComplexF32, 4, 4)\n",
    "γ₁[3:4, 1:2] .= -σx\n",
    "γ₁[1:2, 3:4] .= σx\n",
    "const γ1 = SMatrix{4,4}(γ₁)\n",
    "γ₂ = zeros(ComplexF32, 4, 4)\n",
    "γ₂[3:4, 1:2] .= -σy\n",
    "γ₂[1:2, 3:4] .= σy\n",
    "const γ2 = SMatrix{4,4}(γ₂)\n",
    "γ₃ = zeros(ComplexF32, 4, 4)\n",
    "γ₃[3:4, 1:2] .= -σz\n",
    "γ₃[1:2, 3:4] .= σz\n",
    "const γ3 = SMatrix{4,4}(γ₃)\n",
    "γ₅ = zeros(ComplexF32, 4, 4)\n",
    "γ₅[1:2, 1:2] .= -σ0\n",
    "γ₅[3:4, 3:4] .= σ0\n",
    "γ5 = SMatrix{4,4}(γ₅)\n",
    "\n",
    "\n",
    "γ0"
   ]
  },
  {
   "cell_type": "code",
   "execution_count": 4,
   "id": "8f589dbd",
   "metadata": {},
   "outputs": [
    {
     "data": {
      "text/plain": [
       "4×4 SMatrix{4, 4, ComplexF32, 16} with indices SOneTo(4)×SOneTo(4):\n",
       "  0.0+0.0im  0.0+0.0im  1.0+0.0im   0.0+0.0im\n",
       "  0.0+0.0im  0.0+0.0im  0.0+0.0im  -1.0+0.0im\n",
       " -1.0+0.0im  0.0+0.0im  0.0+0.0im   0.0+0.0im\n",
       "  0.0+0.0im  1.0+0.0im  0.0+0.0im   0.0+0.0im"
      ]
     },
     "metadata": {},
     "output_type": "display_data"
    }
   ],
   "source": [
    "γ3"
   ]
  },
  {
   "cell_type": "code",
   "execution_count": 5,
   "id": "be4ba0c9",
   "metadata": {},
   "outputs": [
    {
     "data": {
      "text/plain": [
       "0.3029f0"
      ]
     },
     "metadata": {},
     "output_type": "display_data"
    }
   ],
   "source": [
    "# electron mass in GeV\n",
    "const mₑ = 0.000511f0\n",
    "const qₑ = 0.3029f0 # electron charge"
   ]
  },
  {
   "cell_type": "code",
   "execution_count": 6,
   "id": "a0b0fe56",
   "metadata": {},
   "outputs": [
    {
     "data": {
      "text/plain": [
       "Scatter{Tuple{Vector{Point{3, Float32}}}}"
      ]
     },
     "metadata": {},
     "output_type": "display_data"
    }
   ],
   "source": [
    "ψ = CUDA.zeros(ComplexF32, Nx, Ny, Nz, 4) # 4-component Dirac spinor\n",
    "A = CUDA.zeros(ComplexF32, Nx, Ny, Nz, 4) # 4-vector photon field Aᵘ\n",
    "∂A = CUDA.zeros(ComplexF32, Nx, Ny, Nz, 4, 4) # 4x4 matrix of ∂ᵤAᵛ\n",
    "\n",
    "function init_gaussian!(field, σ, A, x0=0f0, y0=0f0, z0=0f0)\n",
    "    i = (blockIdx().x-1)*blockDim().x + threadIdx().x\n",
    "    j = (blockIdx().y-1)*blockDim().y + threadIdx().y\n",
    "    k = (blockIdx().z-1)*blockDim().z + threadIdx().z\n",
    "    nx, ny, nz = size(field)\n",
    "    if 1 ≤ i ≤ nx && 1 ≤ j ≤ ny && 1 ≤ k ≤ nz\n",
    "        r2 = (i - nx/2 - x0)^2 + (j - ny/2 - y0)^2 + (k - nz/2 - z0)^2\n",
    "        field[i,j,k] += A * exp(-r2 / (2σ^2))\n",
    "    end\n",
    "    return\n",
    "end\n",
    "σ = 1f0\n",
    "# function init_field!(ψ, A, ∂A)\n",
    "#     i = (blockIdx().x-1)*blockDim().x + threadIdx().x\n",
    "#     j = (blockIdx().y-1)*blockDim().y + threadIdx().y\n",
    "#     k = (blockIdx().z-1)*blockDim().z + threadIdx().z\n",
    "#     # nx, ny, nz = size(A[:,:,:,1])\n",
    "#     if 1 ≤ i ≤ Nx && 1 ≤ j ≤ Ny && 1 ≤ k ≤ Nz\n",
    "#         # TODO: initialize ψ, A, ∂ₜA\n",
    "\n",
    "#     end\n",
    "#     return\n",
    "# end\n",
    "\n",
    "# ψ[Int64(Nx/2), Int64(Ny/2), Int64(Nz/2) - 4, :] .= [sqrt(mₑ), 0, sqrt(mₑ), 0]\n",
    "# ψ[Int64(Nx/2), Int64(Ny/2), Int64(Nz/2) + 4, :] .= [sqrt(mₑ), 0, -sqrt(mₑ), 0]\n",
    "\n",
    "\n",
    "@cuda threads=threads blocks=blocks init_gaussian!(@view(ψ[:,:,:,1]), σ, mₑ, 0, 0, 0)\n",
    "@cuda threads=threads blocks=blocks init_gaussian!(@view(ψ[:,:,:,3]), σ, mₑ, 0, 0, 0)\n",
    "\n",
    "# @cuda threads=threads blocks=blocks init_gaussian!(@view(ψ[:,:,:,1]), σ, sqrt(mₑ), 0, 0, -5)\n",
    "# @cuda threads=threads blocks=blocks init_gaussian!(@view(ψ[:,:,:,3]), σ, -sqrt(mₑ), 0, 0, -5)\n",
    "\n",
    "synchronize()\n",
    "\n",
    "fig = Figure(size = (700, 500))\n",
    "ax  = Axis3(fig[1,1]; \n",
    "    perspectiveness=0.5, \n",
    "    title=\"ψ field evolution\",\n",
    "    limits=(1, Nx, 1, Ny, 1, Nz),  # Set explicit limits\n",
    "    aspect = (1.0, 1.0, 1.3),\n",
    ")\n",
    "\n",
    "\n",
    "# Convert 3D array to vector of points\n",
    "function array_to_points(arr)\n",
    "    points = Point3f[]\n",
    "    for i in 1:size(arr,1), j in 1:size(arr,2), k in 1:size(arr,3)\n",
    "        push!(points, Point3f(i, j, k))\n",
    "    end\n",
    "    return points\n",
    "end\n",
    "\n",
    "\n",
    "# Initialize points and colors\n",
    "points = array_to_points(Array(ψ[:,:,:,1]))\n",
    "# Create explicit black colors with zero alpha\n",
    "init_colors = [RGBAf(0.0f0, 0.0f0, 0.0f0, 0.0f0) for _ in 1:length(points)]\n",
    "markers = scatter!(ax, points; \n",
    "    markersize = 4,\n",
    "    color = init_colors,\n",
    "    transparency = true\n",
    ")"
   ]
  },
  {
   "cell_type": "code",
   "execution_count": 7,
   "id": "ebb26fe8",
   "metadata": {},
   "outputs": [
    {
     "data": {
      "text/plain": [
       "0.0f0"
      ]
     },
     "metadata": {},
     "output_type": "display_data"
    }
   ],
   "source": [
    "p = Array(ψ)[32,32,22,:]\n",
    "real(p' * γ0 * p) / (2 * mₑ)"
   ]
  },
  {
   "cell_type": "code",
   "execution_count": 8,
   "id": "aa5525da",
   "metadata": {},
   "outputs": [
    {
     "data": {
      "text/plain": [
       "snapshot! (generic function with 1 method)"
      ]
     },
     "metadata": {},
     "output_type": "display_data"
    }
   ],
   "source": [
    "function update∂ⱼA!(A, ∂A, dx)\n",
    "    i = (blockIdx().x-1)*blockDim().x + threadIdx().x\n",
    "    j = (blockIdx().y-1)*blockDim().y + threadIdx().y\n",
    "    k = (blockIdx().z-1)*blockDim().z + threadIdx().z\n",
    "    if 2 ≤ i ≤ Nx-1 && 2 ≤ j ≤ Ny-1 && 2 ≤ k ≤ Nz-1\n",
    "    \n",
    "        # To make it compilable for GPU,\n",
    "        # I cannot use broadcast here\n",
    "        @inbounds for μ in 1:4\n",
    "            # ∂₁A\n",
    "            ∂A[i,j,k,2,μ] = (A[i+1,j,k,μ] - A[i,j,k,μ]) / dx\n",
    "            # ∂₂A\n",
    "            ∂A[i,j,k,3,μ] = (A[i,j+1,k,μ] - A[i,j,k,μ]) / dx\n",
    "            # ∂₃A\n",
    "            ∂A[i,j,k,4,μ] = (A[i,j,k+1,μ] - A[i,j,k,μ]) / dx\n",
    "        end\n",
    "    end\n",
    "    return\n",
    "end\n",
    "function trace4x4(A::T) where {T}\n",
    "    @inbounds tr = A[1,1] + A[2,2] + A[3,3] + A[4,4]\n",
    "    return tr\n",
    "end\n",
    "function update!(ψ, A, ∂A, dx::Float32)\n",
    "    i = (blockIdx().x-1)*blockDim().x + threadIdx().x\n",
    "    j = (blockIdx().y-1)*blockDim().y + threadIdx().y\n",
    "    k = (blockIdx().z-1)*blockDim().z + threadIdx().z\n",
    "    if 2 ≤ i ≤ Nx-1 && 2 ≤ j ≤ Ny-1 && 2 ≤ k ≤ Nz-1\n",
    "        # ψ at i,j,k\n",
    "        # arrays; not allocated - requirement for GPU kernel\n",
    "        psi = @SVector [@inbounds ψ[i,j,k,l] for l = 1:4]\n",
    "        ∂₁ψ = @SVector [@inbounds (ψ[i+1,j,k,l] - psi[l]) / dx for l = 1:4]\n",
    "        ∂₂ψ = @SVector [@inbounds (ψ[i,j+1,k,l] - psi[l]) / dx for l = 1:4]\n",
    "        ∂₃ψ = @SVector [@inbounds (ψ[i,j,k+1,l] - psi[l]) / dx for l = 1:4]\n",
    "\n",
    "        dpsi = (\n",
    "            # -imγᵗψ\n",
    "            -im * mₑ * γ0 * psi\n",
    "            # -iqγᵗγᵘψAᵤ\n",
    "            # -im * qₑ * γ0 * γ0 * psi * A[i,j,k,1]\n",
    "            # +im * qₑ * γ0 * γ1 * psi * A[i,j,k,2]\n",
    "            # +im * qₑ * γ0 * γ2 * psi * A[i,j,k,3]\n",
    "            # +im * qₑ * γ0 * γ3 * psi * A[i,j,k,4]\n",
    "            # -γᵗγᵃ∂ₐψ\n",
    "            -γ0 * γ1 * ∂₁ψ\n",
    "            -γ0 * γ2 * ∂₂ψ\n",
    "            -γ0 * γ3 * ∂₃ψ\n",
    "        ) * dt\n",
    "        @inbounds for l in 1:4\n",
    "            # Update ψ\n",
    "            ψ[i,j,k,l] += dpsi[l]\n",
    "        end\n",
    "        \n",
    "        # ∂ⱼ∂ₜAʲ = (\n",
    "        #     ∂A[i+1,j,k,1,2] - ∂A[i,j,k,1,2]\n",
    "        #     + ∂A[i,j+1,k,1,3] - ∂A[i,j,k,1,3]\n",
    "        #     + ∂A[i,j,k+1,1,4] - ∂A[i,j,k,1,4]\n",
    "        # ) / dx\n",
    "        # # Laplacian(A) = -qψ†ψ - ∂ⱼ∂ₜAʲ\n",
    "        # lapAᵗ = -qₑ * psi' * psi - ∂ⱼ∂ₜAʲ\n",
    "\n",
    "        # Aᵗ_new = (\n",
    "        #     # Aᵗ of all neighbors\n",
    "        #     A[i-1,j,k,1] + A[i+1,j,k,1] +\n",
    "        #     A[i,j-1,k,2] + A[i,j+1,k,2] +\n",
    "        #     A[i,j,k-1,3] + A[i,j,k+1,3]\n",
    "        #     - lapAᵗ * dx^2\n",
    "        # ) / 6.0\n",
    "\n",
    "        \n",
    "        # ∂ₜ²A¹ = (\n",
    "        #     # qψ†γᵗγʲψ\n",
    "        #     qₑ * (psi' * γ0 * γ1 * psi)\n",
    "        #     # - ∂₁(∂ᵤAᵘ))\n",
    "        #     - (trace4x4(@view ∂A[i+1,j,k,:,:]) - trace4x4(@view ∂A[i,j,k,:,:])) / dx\n",
    "        #     # + lap A¹\n",
    "        #     + (A[i-1,j,k,2] + A[i+1,j,k,2] +\n",
    "        #        A[i,j-1,k,2] + A[i,j+1,k,2] +\n",
    "        #        A[i,j,k-1,2] + A[i,j,k+1,2]\n",
    "        #        - 6.0 * A[i,j,k,2]) / dx^2\n",
    "        # )\n",
    "        # ∂ₜ²A² = (\n",
    "        #     # qψ†γᵗγʲψ\n",
    "        #     qₑ * (psi' * γ0 * γ2 * psi)\n",
    "        #     # - ∂₂(∂ᵤAᵘ))\n",
    "        #     - (trace4x4(@view ∂A[i,j+1,k,:,:]) - trace4x4(@view ∂A[i,j,k,:,:])) / dx\n",
    "        #     # + lap A²\n",
    "        #     + (A[i-1,j,k,3] + A[i+1,j,k,3] +\n",
    "        #        A[i,j-1,k,3] + A[i,j+1,k,3] +\n",
    "        #        A[i,j,k-1,3] + A[i,j,k+1,3]\n",
    "        #        - 6.0 * A[i,j,k,3]) / dx^2\n",
    "        # )\n",
    "        # ∂ₜ²A³ = (\n",
    "        #     # qψ†γᵗγʲψ\n",
    "        #     qₑ * (psi' * γ0 * γ3 * psi)\n",
    "        #     # - ∂₃(∂ᵤAᵘ))\n",
    "        #     - (trace4x4(@view ∂A[i,j,k+1,:,:]) - trace4x4(@view ∂A[i,j,k,:,:])) / dx\n",
    "        #     # + lap A³\n",
    "        #     + (A[i-1,j,k,4] + A[i+1,j,k,4] +\n",
    "        #        A[i,j-1,k,4] + A[i,j+1,k,4] +\n",
    "        #        A[i,j,k-1,4] + A[i,j,k+1,4]\n",
    "        #        - 6.0 * A[i,j,k,4]) / dx^2\n",
    "        # )\n",
    "\n",
    "        # ∂ₜAᵗ = (Aᵗ_new - A[i,j,k,1]) / dt\n",
    "        # # Update A\n",
    "        # A[i,j,k,1] = Aᵗ_new\n",
    "        # A[i,j,k,2] += ∂A[i,j,k,1,2] * dt\n",
    "        # A[i,j,k,3] += ∂A[i,j,k,1,3] * dt\n",
    "        # A[i,j,k,4] += ∂A[i,j,k,1,4] * dt\n",
    "        \n",
    "        # # Update ∂ₜAᵗ\n",
    "        # ∂A[i,j,k,1,1] = ∂ₜAᵗ\n",
    "        # # Update ∂ₜA\n",
    "        # ∂A[i,j,k,1,2] += ∂ₜ²A¹ * dt\n",
    "        # ∂A[i,j,k,1,3] += ∂ₜ²A² * dt\n",
    "        # ∂A[i,j,k,1,4] += ∂ₜ²A³ * dt\n",
    "    end\n",
    "    return\n",
    "end\n",
    "\n",
    "function snapshot!(markers, ψh)\n",
    "    # Create colors with varying transparency - explicitly use zeros for RGB (black)\n",
    "    # get 4-component Dirac spinor at each point and calculate inner product\n",
    "    cols = zeros(RGBAf, size(ψh,1), size(ψh,2), size(ψh,3))\n",
    "\n",
    "\n",
    "    for i in 1:size(ψh,1), j in 1:size(ψh,2), k in 1:size(ψh,3)\n",
    "        ψh_point = ψh[i,j,(size(ψh,3)-k+1),:]\n",
    "        mass = real(ψh_point' * γ0 * ψh_point)\n",
    "        intensity = abs(mass)\n",
    "        \n",
    "\n",
    "        alpha = min(1.0f0, 200*intensity / (2 * mₑ))\n",
    "        cols[i,j,k] = RGBAf(mass > 0 ? 1.0f0 : 0.0f0, 0.0f0, mass < 0 ? 1.0f0 : 0.0f0, alpha)\n",
    "\n",
    "    end\n",
    "    \n",
    "    # Try direct attribute access\n",
    "    markers.color = vec(cols)\n",
    "    return\n",
    "end \n",
    "\n",
    "# # Helper that converts GPU array → positions + colors\n",
    "# function snapshot!(markers, ψh)\n",
    "#     # Create colors with varying transparency - explicitly use zeros for RGB (black)\n",
    "#     # get 4-component Dirac spinor at each point and calculate inner product\n",
    "#     cols = zeros(RGBAf, size(ψh,1), size(ψh,2), size(ψh,3))\n",
    "#     for (i, j, k) in axes(ψh)\n",
    "#         ψh_point = ψh[i,j,k,:]\n",
    "#         mass = real(ψh_point' * γ0 * ψh_point)\n",
    "#         cols[i,j,k] = RGBAf(mass > 0 ? 1.0f0 : 0.0f0, 0.0f0, mass < 0 ? 1.0f0 : 0.0f0, abs(mass / (2 * mₑ)))\n",
    "#     end\n",
    "#     # Try direct attribute access\n",
    "#     markers.color = vec(cols)\n",
    "#     return\n",
    "# end"
   ]
  },
  {
   "cell_type": "code",
   "execution_count": 9,
   "id": "283e447f",
   "metadata": {},
   "outputs": [
    {
     "name": "stderr",
     "output_type": "stream",
     "text": [
      "\u001b[32mProgress: 100%|█████████████████████████████████████████| Time: 0:00:18\u001b[39m\u001b[K\n"
     ]
    },
    {
     "data": {
      "text/latex": [
       "<video src=qed3d.mp4 controls></video>\n",
       "\n"
      ],
      "text/markdown": [
       "<video src=qed3d.mp4 controls></video>\n"
      ],
      "text/plain": [
       "  <video src=qed3d.mp4 controls></video>"
      ]
     },
     "metadata": {},
     "output_type": "display_data"
    }
   ],
   "source": [
    "############ Time integration + recording ################\n",
    "iter_num = ceil(Int,nsteps/frame_every)\n",
    "p = ProgressMeter.Progress(iter_num)\n",
    "GLMakie.record(fig, \"qed3d.mp4\", 1:iter_num) do frame\n",
    "    for _ in 1:frame_every\n",
    "        # @cuda threads=threads blocks=blocks update∂ⱼA!(A, ∂A, dx)\n",
    "        @cuda threads=threads blocks=blocks update!(ψ, A, ∂A, dx)\n",
    "    end\n",
    "    # copy to CPU & refresh plot every few steps\n",
    "    ψh = Array(ψ)\n",
    "    snapshot!(markers, ψh)\n",
    "    ProgressMeter.next!(p)\n",
    "end\n",
    "ProgressMeter.finish!(p)\n",
    "\n",
    "\n",
    "md\"<video src=qed3d.mp4 controls></video>\""
   ]
  },
  {
   "cell_type": "code",
   "execution_count": 10,
   "id": "efe5729d",
   "metadata": {},
   "outputs": [],
   "source": []
  }
 ],
 "metadata": {
  "kernelspec": {
   "display_name": "Julia 1.11.5",
   "language": "julia",
   "name": "julia-1.11"
  },
  "language_info": {
   "file_extension": ".jl",
   "mimetype": "application/julia",
   "name": "julia",
   "version": "1.11.5"
  }
 },
 "nbformat": 4,
 "nbformat_minor": 5
}
