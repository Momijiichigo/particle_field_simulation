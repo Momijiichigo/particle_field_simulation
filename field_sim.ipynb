{
 "cells": [
  {
   "cell_type": "code",
   "execution_count": 2,
   "metadata": {},
   "outputs": [],
   "source": [
    "using LinearAlgebra\n",
    "using CUDA           # GPU computing\n",
    "using GLMakie        # high‑performance 3‑D plotting\n",
    "using ColorSchemes\n",
    "using GeometryBasics\n",
    "import ProgressMeter\n",
    "using Markdown"
   ]
  },
  {
   "cell_type": "code",
   "execution_count": 3,
   "metadata": {},
   "outputs": [
    {
     "data": {
      "text/plain": [
       "5"
      ]
     },
     "metadata": {},
     "output_type": "display_data"
    }
   ],
   "source": [
    "const Nx, Ny, Nz = 64, 64, 64          # grid size\n",
    "threads = (8, 8, 8)                                # 512 threads per block\n",
    "blocks  = (cld(Nx,threads[1]),\n",
    "           cld(Ny,threads[2]),\n",
    "           cld(Nz,threads[3]))                     # as many blocks as needed\n",
    "############ Physical & numerical constants #############\n",
    "const dx  = 0.1f0                      # spacing\n",
    "const dt  = 0.001f0                    # time step\n",
    "const nsteps      = 2000                # total steps\n",
    "const frame_every = 5                  # dump every n steps"
   ]
  },
  {
   "cell_type": "code",
   "execution_count": null,
   "metadata": {},
   "outputs": [
    {
     "data": {
      "text/plain": [
       "Scatter{Tuple{Vector{Point{3, Float32}}}}"
      ]
     },
     "metadata": {},
     "output_type": "display_data"
    }
   ],
   "source": [
    "const m   = 0.5f0\n",
    "############ Allocate GPU arrays ########################\n",
    "ϕ   = CUDA.zeros(Float32, Nx, Ny, Nz)\n",
    "∂ₜϕ  = CUDA.zeros(Float32, Nx, Ny, Nz)  # time derivative\n",
    "\n",
    "############ Initial condition (Gaussian pulse) #########\n",
    "function init_gaussian!(field, σ, A, x0=0f0, y0=0f0, z0=0f0)\n",
    "    i = (blockIdx().x-1)*blockDim().x + threadIdx().x\n",
    "    j = (blockIdx().y-1)*blockDim().y + threadIdx().y\n",
    "    k = (blockIdx().z-1)*blockDim().z + threadIdx().z\n",
    "    nx, ny, nz = size(field)\n",
    "    if 1 ≤ i ≤ nx && 1 ≤ j ≤ ny && 1 ≤ k ≤ nz\n",
    "        r2 = (i - nx/2 - x0)^2 + (j - ny/2 - y0)^2 + (k - nz/2 - z0)^2\n",
    "        field[i,j,k] += A * exp(-r2 / (2σ^2))\n",
    "    end\n",
    "    return\n",
    "end\n",
    "σ = 3f0\n",
    "amp = 1f0\n",
    "@cuda threads=threads blocks=blocks init_gaussian!(ϕ, σ, -amp, 0, 0, -σ/2)\n",
    "@cuda threads=threads blocks=blocks init_gaussian!(ϕ, σ, amp, 0, 0, σ/2)\n",
    "# @cuda threads=threads blocks=blocks init_gaussian!(∂ₜϕ, σ, -A, 0, 0, σ*3/2)\n",
    "@cuda threads=threads blocks=blocks init_gaussian!(∂ₜϕ, σ, amp, 0, 0, 0)\n",
    "\n",
    "synchronize()\n",
    "############ Makie set‑up ################################\n",
    "fig = Figure(size = (700, 500))\n",
    "ax  = Axis3(fig[1,1]; \n",
    "    perspectiveness=0.8, \n",
    "    title=\"ϕ field evolution\",\n",
    "    limits=(1, Nx, 1, Ny, 1, Nz)  # Set explicit limits\n",
    ")\n",
    "\n",
    "\n",
    "# Convert 3D array to vector of points\n",
    "function array_to_points(arr)\n",
    "    points = Point3f[]\n",
    "    for i in 1:size(arr,1), j in 1:size(arr,2), k in 1:size(arr,3)\n",
    "        push!(points, Point3f(i, j, k))\n",
    "    end\n",
    "    return points\n",
    "end\n",
    "\n",
    "# Initialize points and colors\n",
    "points = array_to_points(Array(ϕ))\n",
    "# Create explicit black colors with zero alpha\n",
    "init_colors = [RGBAf(0.0f0, 0.0f0, 0.0f0, 0.0f0) for _ in 1:length(points)]\n",
    "markers = scatter!(ax, points; \n",
    "    markersize = 4,\n",
    "    color = init_colors,\n",
    "    transparency = true\n",
    ")"
   ]
  },
  {
   "cell_type": "code",
   "execution_count": null,
   "metadata": {},
   "outputs": [
    {
     "data": {
      "text/plain": [
       "snapshot! (generic function with 1 method)"
      ]
     },
     "metadata": {},
     "output_type": "display_data"
    }
   ],
   "source": [
    "############ Finite‑difference kernel ###################\n",
    "function update!(∂ₜϕ, ϕ, dx2, m2)\n",
    "    i = (blockIdx().x-1)*blockDim().x + threadIdx().x\n",
    "    j = (blockIdx().y-1)*blockDim().y + threadIdx().y\n",
    "    k = (blockIdx().z-1)*blockDim().z + threadIdx().z\n",
    "    nx, ny, nz = size(ϕ)\n",
    "    if 2 ≤ i ≤ nx-1 && 2 ≤ j ≤ ny-1 && 2 ≤ k ≤ nz-1\n",
    "        lap = (ϕ[i-1,j,k] - 2f0*ϕ[i,j,k] + ϕ[i+1,j,k] +\n",
    "               ϕ[i,j-1,k] - 2f0*ϕ[i,j,k] + ϕ[i,j+1,k] +\n",
    "               ϕ[i,j,k-1] - 2f0*ϕ[i,j,k] + ϕ[i,j,k+1]) / dx2\n",
    "        ∂ₜϕ[i,j,k] += (lap - m2*ϕ[i,j,k]) * dt      # ∂ₜϕ update\n",
    "    end\n",
    "    return\n",
    "end\n",
    "\n",
    "\n",
    "\n",
    "# Helper that converts GPU array → positions + colors\n",
    "function snapshot!(markers, ϕh)\n",
    "    # Create colors with varying transparency - explicitly use zeros for RGB (black)\n",
    "    cols = [RGBAf(ϕh > 0 ? 0.0f0 : 1.0f0, 0.0f0, ϕh < 0 ? 0.0f0 : 1.0f0, abs(ϕh)) for ϕh in vec(ϕh)]\n",
    "    # Try direct attribute access\n",
    "    markers.color = cols\n",
    "    return\n",
    "end"
   ]
  },
  {
   "cell_type": "code",
   "execution_count": null,
   "metadata": {},
   "outputs": [
    {
     "name": "stderr",
     "output_type": "stream",
     "text": [
      "\u001b[32mProgress: 100%|█████████████████████████████████████████| Time: 0:00:07\u001b[39m\u001b[K\n"
     ]
    },
    {
     "data": {
      "text/latex": [
       "<video src=phi3d.mp4 controls></video>\n",
       "\n"
      ],
      "text/markdown": [
       "<video src=phi3d.mp4 controls></video>\n"
      ],
      "text/plain": [
       "  <video src=phi3d.mp4 controls></video>"
      ]
     },
     "metadata": {},
     "output_type": "display_data"
    }
   ],
   "source": [
    "############ Time integration + recording ################\n",
    "iter_num = ceil(Int,nsteps/frame_every)\n",
    "p = ProgressMeter.Progress(iter_num)\n",
    "GLMakie.record(fig, \"phi3d.mp4\", 1:iter_num) do frame\n",
    "    for _ in 1:frame_every\n",
    "        # (a) compute ∂ₜϕ\n",
    "        @cuda threads=threads blocks=blocks update!(∂ₜϕ, ϕ, dx^2, m^2)\n",
    "        # (b) integrate ϕ ← ϕ + ∂ₜϕ*dt\n",
    "        @. ϕ  = ϕ + ∂ₜϕ*dt        # broadcast runs on GPU automatically :contentReference[oaicite:3]{index=3}\n",
    "    end\n",
    "    # copy to CPU & refresh plot every few steps\n",
    "    ϕh = Array(ϕ)\n",
    "    snapshot!(markers, ϕh)\n",
    "    ProgressMeter.next!(p)\n",
    "end\n",
    "ProgressMeter.finish!(p)\n",
    "\n",
    "md\"<video src=phi3d.mp4 controls></video>\""
   ]
  },
  {
   "cell_type": "markdown",
   "metadata": {},
   "source": [
    "# Electrodynamics!!\n",
    "\n",
    "I will create Dirac spinor field with active local U(1) symmetry"
   ]
  },
  {
   "cell_type": "code",
   "execution_count": 10,
   "metadata": {},
   "outputs": [
    {
     "data": {
      "text/plain": [
       "4×4 Matrix{ComplexF32}:\n",
       " 0.0+0.0im  0.0+0.0im  0.0+0.0im  0.0-1.0im\n",
       " 0.0+0.0im  0.0+0.0im  0.0+1.0im  0.0+0.0im\n",
       " 0.0+0.0im  0.0+1.0im  0.0+0.0im  0.0+0.0im\n",
       " 0.0-1.0im  0.0+0.0im  0.0+0.0im  0.0+0.0im"
      ]
     },
     "metadata": {},
     "output_type": "display_data"
    }
   ],
   "source": [
    "# Pauli matrices\n",
    "\n",
    "σx = [0 1;\n",
    "      1 0]\n",
    "\n",
    "σy = [0 -im;\n",
    "       im 0]\n",
    "\n",
    "σz = [1 0;\n",
    "      0 -1]\n",
    "\n",
    "σ0 = [1 0;\n",
    "      0 1]\n",
    "\n",
    "# Gamma matrices\n",
    "# (first make empty 4x4 matrices and set upper-right and lower-left 2x2 blocks to σx, σy, σz)\n",
    "γ0 = zeros(ComplexF32, 4, 4)\n",
    "γ0[3:4, 1:2] .= σ0\n",
    "γ0[1:2, 3:4] .= σ0\n",
    "γ1 = zeros(ComplexF32, 4, 4)\n",
    "γ1[3:4, 1:2] .= -σx\n",
    "γ1[1:2, 3:4] .= σx\n",
    "γ2 = zeros(ComplexF32, 4, 4)\n",
    "γ2[3:4, 1:2] .= -σy\n",
    "γ2[1:2, 3:4] .= σy\n",
    "γ3 = zeros(ComplexF32, 4, 4)\n",
    "γ3[3:4, 1:2] .= -σz\n",
    "γ3[1:2, 3:4] .= σz\n",
    "γ5 = zeros(ComplexF32, 4, 4)\n",
    "γ5[1:2, 1:2] .= -σ0\n",
    "γ5[3:4, 3:4] .= σ0\n",
    "\n",
    "\n",
    "γ2"
   ]
  },
  {
   "cell_type": "code",
   "execution_count": null,
   "metadata": {},
   "outputs": [
    {
     "data": {
      "text/plain": [
       "0.3029f0"
      ]
     },
     "metadata": {},
     "output_type": "display_data"
    }
   ],
   "source": [
    "ψ = CUDA.zeros(ComplexF32, Nx, Ny, Nz, 4) # 4-component Dirac spinor\n",
    "A = CUDA.zeros(ComplexF32, Nx, Ny, Nz, 4) # photon field A^μ\n",
    "∂ₜA = CUDA.zeros(ComplexF32, Nx, Ny, Nz, 4) # time derivative of A^μ\n",
    "\n",
    "# electron mass in GeV\n",
    "const mₑ = 0.000511f0\n",
    "const qₑ = 0.3029f0 # electron charge"
   ]
  },
  {
   "cell_type": "code",
   "execution_count": 16,
   "metadata": {},
   "outputs": [
    {
     "data": {
      "text/plain": [
       "Scatter{Tuple{Vector{Point{3, Float32}}}}"
      ]
     },
     "metadata": {},
     "output_type": "display_data"
    }
   ],
   "source": [
    "function init_field!(ψ, A, ∂ₜA)\n",
    "    i = (blockIdx().x-1)*blockDim().x + threadIdx().x\n",
    "    j = (blockIdx().y-1)*blockDim().y + threadIdx().y\n",
    "    k = (blockIdx().z-1)*blockDim().z + threadIdx().z\n",
    "    # nx, ny, nz = size(A[:,:,:,1])\n",
    "    if 1 ≤ i ≤ Nx && 1 ≤ j ≤ Ny && 1 ≤ k ≤ Nz\n",
    "        # TODO: initialize ψ, A, ∂ₜA\n",
    "    end\n",
    "    return\n",
    "end\n",
    "\n",
    "@cuda threads=threads blocks=blocks init_field!(ψ, A, ∂ₜA)\n",
    "synchronize()\n",
    "\n",
    "fig = Figure(size = (700, 500))\n",
    "ax  = Axis3(fig[1,1]; \n",
    "    perspectiveness=0.8, \n",
    "    title=\"ψ field evolution\",\n",
    "    limits=(1, Nx, 1, Ny, 1, Nz)  # Set explicit limits\n",
    ")\n",
    "\n",
    "\n",
    "# Convert 3D array to vector of points\n",
    "function array_to_points(arr)\n",
    "    points = Point3f[]\n",
    "    for i in 1:size(arr,1), j in 1:size(arr,2), k in 1:size(arr,3)\n",
    "        push!(points, Point3f(i, j, k))\n",
    "    end\n",
    "    return points\n",
    "end\n",
    "\n",
    "\n",
    "# Initialize points and colors\n",
    "points = array_to_points(Array(ψ[:,:,:,1]))\n",
    "# Create explicit black colors with zero alpha\n",
    "init_colors = [RGBAf(0.0f0, 0.0f0, 0.0f0, 0.0f0) for _ in 1:length(points)]\n",
    "markers = scatter!(ax, points; \n",
    "    markersize = 4,\n",
    "    color = init_colors,\n",
    "    transparency = true\n",
    ")"
   ]
  },
  {
   "cell_type": "code",
   "execution_count": null,
   "metadata": {},
   "outputs": [],
   "source": [
    "############ Finite‑difference kernel ###################\n",
    "function update!(ψ, A, ∂ₜA, dx)\n",
    "    i = (blockIdx().x-1)*blockDim().x + threadIdx().x\n",
    "    j = (blockIdx().y-1)*blockDim().y + threadIdx().y\n",
    "    k = (blockIdx().z-1)*blockDim().z + threadIdx().z\n",
    "    if 2 ≤ i ≤ nx-1 && 2 ≤ j ≤ ny-1 && 2 ≤ k ≤ nz-1\n",
    "        # ψ at i,j,k\n",
    "        psi = ψ[i,j,k,:]\n",
    "        ∂₁ψ = (ψ[i+1,j,k,:] - psi) / dx\n",
    "        ∂₂ψ = (ψ[i,j+1,k,:] - psi) / dx\n",
    "        ∂₃ψ = (ψ[i,j,k+1,:] - psi) / dx\n",
    "        # psi at i,j,k\n",
    "        ψ[i,j,k,:] += (\n",
    "            # -imγᵗψ\n",
    "            -im * mₑ * γ0 * psi\n",
    "            # -iqγᵗγᵘψAᵤ\n",
    "            -im * qₑ * γ0 * γ0 * psi * A[i,j,k,0]\n",
    "            +im * qₑ * γ0 * γ1 * psi * A[i,j,k,1]\n",
    "            +im * qₑ * γ0 * γ2 * psi * A[i,j,k,2]\n",
    "            +im * qₑ * γ0 * γ3 * psi * A[i,j,k,3]\n",
    "            # -γᵗγᵃ∂ₐψ\n",
    "            -γ0 * γ1 * ∂₁ψ\n",
    "            -γ0 * γ2 * ∂₂ψ\n",
    "            -γ0 * γ3 * ∂₃ψ\n",
    "        ) * dt\n",
    "        # A at i,j,k\n",
    "        A_point = A[i,j,k,:]\n",
    "        # four-vector of each component's laplacian\n",
    "        lapA = (A[i-1,j,k,:] - 2f0*A_point + A[i+1,j,k,:] +\n",
    "               A[i,j-1,k,:] - 2f0*A_point + A[i,j+1,k,:] +\n",
    "               A[i,j,k-1,:] - 2f0*Apoint + A[i,j,k+1,:]) ./ dx^2\n",
    "        # caution: index of A start from 1, but 1 is time component (corresponding to 0 in 4-vector)\n",
    "        ∂ₜA[i,j,k,1] += (\n",
    "            # qψ†γᵗγᵘψ\n",
    "            qₑ * ψ[i,j,k,:] * γ0 * γ0 * ψ[i,j,k,:]\n",
    "            # lap Aᵘ\n",
    "            + lapA[1]\n",
    "            # \n",
    "        ) * dt\n",
    "        \n",
    "    end\n",
    "    return\n",
    "end\n",
    "\n",
    "\n",
    "\n",
    "# Helper that converts GPU array → positions + colors\n",
    "function snapshot!(markers, ϕh)\n",
    "    # Create colors with varying transparency - explicitly use zeros for RGB (black)\n",
    "    cols = [RGBAf(ϕh > 0 ? 0.0f0 : 1.0f0, 0.0f0, ϕh < 0 ? 0.0f0 : 1.0f0, abs(ϕh)) for ϕh in vec(ϕh)]\n",
    "    # Try direct attribute access\n",
    "    markers.color = cols\n",
    "    return\n",
    "end"
   ]
  },
  {
   "cell_type": "code",
   "execution_count": null,
   "metadata": {},
   "outputs": [],
   "source": [
    "############ Time integration + recording ################\n",
    "iter_num = ceil(Int,nsteps/frame_every)\n",
    "p = ProgressMeter.Progress(iter_num)\n",
    "GLMakie.record(fig, \"phi3d.mp4\", 1:iter_num) do frame\n",
    "    for _ in 1:frame_every\n",
    "        # (a) compute ∂ₜϕ\n",
    "        @cuda threads=threads blocks=blocks update!(ψ, A, ∂ₜA, dx)\n",
    "        # (b) integrate ϕ ← ϕ + ∂ₜϕ*dt\n",
    "        @. A = A + ∂ₜA * dt       # broadcast runs on GPU automatically :contentReference[oaicite:3]{index=3}\n",
    "    end\n",
    "    # copy to CPU & refresh plot every few steps\n",
    "    ϕh = Array(ϕ)\n",
    "    snapshot!(markers, ϕh)\n",
    "    ProgressMeter.next!(p)\n",
    "end\n",
    "ProgressMeter.finish!(p)\n",
    "\n",
    "md\"<video src=phi3d.mp4 controls></video>\""
   ]
  }
 ],
 "metadata": {
  "kernelspec": {
   "display_name": "Julia 1.11.5",
   "language": "julia",
   "name": "julia-1.11"
  },
  "language_info": {
   "file_extension": ".jl",
   "mimetype": "application/julia",
   "name": "julia",
   "version": "1.11.5"
  }
 },
 "nbformat": 4,
 "nbformat_minor": 2
}
